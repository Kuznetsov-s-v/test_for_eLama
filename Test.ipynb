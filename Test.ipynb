{
 "cells": [
  {
   "cell_type": "code",
   "execution_count": 1,
   "id": "a3f2ba41",
   "metadata": {},
   "outputs": [],
   "source": [
    "import pandas as pd\n",
    "pd.options.display.float_format = '{:,.2f}'.format\n",
    "import numpy as np\n",
    "%matplotlib inline\n",
    "import matplotlib.pyplot as plt\n",
    "import seaborn as sns\n",
    "#from datetime as dt import datetime\n",
    "ad_systems_accounts = pd.read_csv('C:/Users/Sergey/Desktop/jupyter/Test task for product analyst/ad_systems_accounts.csv', sep = ',')\n",
    "exchange_rates = pd.read_csv('C:/Users/Sergey/Desktop/jupyter/Test task for product analyst/exchange_rates.csv', sep = ',')\n",
    "transfers_to_ad_systems = pd.read_csv('C:/Users/Sergey/Desktop/jupyter/Test task for product analyst/transfers_to_ad_systems.csv', sep = ',')\n",
    "users_registrations = pd.read_csv('C:/Users/Sergey/Desktop/jupyter/Test task for product analyst/users_registrations.csv', sep = ',')"
   ]
  },
  {
   "cell_type": "markdown",
   "id": "f4de3aff",
   "metadata": {},
   "source": [
    "###  1) Сумма выручки (итого + структура)"
   ]
  },
  {
   "cell_type": "code",
   "execution_count": 2,
   "id": "7b1bf60b",
   "metadata": {},
   "outputs": [
    {
     "data": {
      "text/html": [
       "<div>\n",
       "<style scoped>\n",
       "    .dataframe tbody tr th:only-of-type {\n",
       "        vertical-align: middle;\n",
       "    }\n",
       "\n",
       "    .dataframe tbody tr th {\n",
       "        vertical-align: top;\n",
       "    }\n",
       "\n",
       "    .dataframe thead th {\n",
       "        text-align: right;\n",
       "    }\n",
       "</style>\n",
       "<table border=\"1\" class=\"dataframe\">\n",
       "  <thead>\n",
       "    <tr style=\"text-align: right;\">\n",
       "      <th></th>\n",
       "      <th>price</th>\n",
       "    </tr>\n",
       "    <tr>\n",
       "      <th>ad_system</th>\n",
       "      <th></th>\n",
       "    </tr>\n",
       "  </thead>\n",
       "  <tbody>\n",
       "    <tr>\n",
       "      <th>facebook</th>\n",
       "      <td>16,623,937,987.20</td>\n",
       "    </tr>\n",
       "    <tr>\n",
       "      <th>google</th>\n",
       "      <td>15,719,739,315.26</td>\n",
       "    </tr>\n",
       "    <tr>\n",
       "      <th>mytarget</th>\n",
       "      <td>16,596,263,902.19</td>\n",
       "    </tr>\n",
       "    <tr>\n",
       "      <th>vkontakte</th>\n",
       "      <td>14,376,153,938.60</td>\n",
       "    </tr>\n",
       "    <tr>\n",
       "      <th>yandex</th>\n",
       "      <td>17,147,279,924.94</td>\n",
       "    </tr>\n",
       "  </tbody>\n",
       "</table>\n",
       "</div>"
      ],
      "text/plain": [
       "                      price\n",
       "ad_system                  \n",
       "facebook  16,623,937,987.20\n",
       "google    15,719,739,315.26\n",
       "mytarget  16,596,263,902.19\n",
       "vkontakte 14,376,153,938.60\n",
       "yandex    17,147,279,924.94"
      ]
     },
     "execution_count": 2,
     "metadata": {},
     "output_type": "execute_result"
    }
   ],
   "source": [
    "# структура\n",
    "transfers_to_ad_systems.groupby('ad_system').agg({'price': 'sum'})"
   ]
  },
  {
   "cell_type": "code",
   "execution_count": 3,
   "id": "3cb1252c",
   "metadata": {},
   "outputs": [
    {
     "data": {
      "text/plain": [
       "80463375068.18999"
      ]
     },
     "execution_count": 3,
     "metadata": {},
     "output_type": "execute_result"
    }
   ],
   "source": [
    "# итого\n",
    "transfers_to_ad_systems.price.sum()"
   ]
  },
  {
   "cell_type": "code",
   "execution_count": 4,
   "id": "fa58fa6d",
   "metadata": {},
   "outputs": [
    {
     "data": {
      "text/plain": [
       "<Axes: xlabel='ad_system'>"
      ]
     },
     "execution_count": 4,
     "metadata": {},
     "output_type": "execute_result"
    },
    {
     "data": {
      "image/png": "[encoded data removed]",
      "text/plain": [
       "<Figure size 640x480 with 1 Axes>"
      ]
     },
     "metadata": {},
     "output_type": "display_data"
    }
   ],
   "source": [
    "# структура диаграммой\n",
    "t = transfers_to_ad_systems.groupby('ad_system').agg({'price': 'sum'})\n",
    "t.plot(kind=\"bar\")"
   ]
  },
  {
   "cell_type": "markdown",
   "id": "ad266415",
   "metadata": {},
   "source": [
    "### 2) Кол-во пользователей"
   ]
  },
  {
   "cell_type": "code",
   "execution_count": 5,
   "id": "adff0bae",
   "metadata": {},
   "outputs": [
    {
     "data": {
      "text/plain": [
       "22263"
      ]
     },
     "execution_count": 5,
     "metadata": {},
     "output_type": "execute_result"
    }
   ],
   "source": [
    "ad_systems_accounts.user_id.count()"
   ]
  },
  {
   "cell_type": "markdown",
   "id": "28941923",
   "metadata": {},
   "source": [
    "### 3) Средний чек\n"
   ]
  },
  {
   "cell_type": "code",
   "execution_count": 6,
   "id": "a46dc69a",
   "metadata": {},
   "outputs": [
    {
     "data": {
      "text/plain": [
       "150815.75995732125"
      ]
     },
     "execution_count": 6,
     "metadata": {},
     "output_type": "execute_result"
    }
   ],
   "source": [
    "(transfers_to_ad_systems.price.sum())/(transfers_to_ad_systems.user_id.count())"
   ]
  },
  {
   "cell_type": "markdown",
   "id": "4725ac2a",
   "metadata": {},
   "source": [
    "### 4) Величина оттока (churn rate) - методику расчета определяете сами\n"
   ]
  },
  {
   "cell_type": "markdown",
   "id": "e99ef5e7",
   "metadata": {},
   "source": [
    "Формула Churn Rate включает:\n",
    "\n",
    "С1 — количество клиентов, которые есть в базе данных на начало расчетного периода;\n",
    "\n",
    "С2 — численность аудитории на конец периода;\n",
    "\n",
    "С3 — количество новых клиентов, которые добавились за расчетный период.\n",
    "\n",
    "cr = (c1+c3-c2)/c1\n"
   ]
  },
  {
   "cell_type": "code",
   "execution_count": 8,
   "id": "a22715c2",
   "metadata": {},
   "outputs": [],
   "source": [
    "#Дату из текста в timestamp\n",
    "transfers_to_ad_systems.date_payed = pd.to_datetime(transfers_to_ad_systems['date_payed'])"
   ]
  },
  {
   "cell_type": "code",
   "execution_count": 9,
   "id": "5f2445fb",
   "metadata": {},
   "outputs": [],
   "source": [
    "C1 = ad_systems_accounts[(ad_systems_accounts['account_date_created'] >= '2018-01-01') & (ad_systems_accounts['account_date_created'] < '2018-06-01')].user_id.count()\n",
    "C2 = ad_systems_accounts[(ad_systems_accounts['account_date_created'] >= '2018-06-01') & (ad_systems_accounts['account_date_created'] < '2019-01-01')].user_id.count()\n",
    "C3 = users_registrations[(users_registrations['user_date_registration'] >= '2018-01-01') & (users_registrations['user_date_registration'] < '2019-01-01')].user_id.count()"
   ]
  },
  {
   "cell_type": "code",
   "execution_count": 10,
   "id": "1fae9b0e",
   "metadata": {},
   "outputs": [
    {
     "data": {
      "text/plain": [
       "83.53444920202413"
      ]
     },
     "execution_count": 10,
     "metadata": {},
     "output_type": "execute_result"
    }
   ],
   "source": [
    "cr = ((C1+C3-C2)/C1)*100\n",
    "cr"
   ]
  },
  {
   "cell_type": "markdown",
   "id": "6d5d7414",
   "metadata": {},
   "source": [
    "Приток составил 83.53%"
   ]
  },
  {
   "cell_type": "markdown",
   "id": "fcd74551",
   "metadata": {},
   "source": [
    "### 5) Когорта по дате регистрации юзера по выручке"
   ]
  },
  {
   "cell_type": "markdown",
   "id": "be947cee",
   "metadata": {},
   "source": [
    "Когорта – это группа пользователей, имеющих общее свойство"
   ]
  },
  {
   "cell_type": "code",
   "execution_count": 11,
   "id": "37490651",
   "metadata": {
    "scrolled": false
   },
   "outputs": [
    {
     "data": {
      "text/html": [
       "<div>\n",
       "<style scoped>\n",
       "    .dataframe tbody tr th:only-of-type {\n",
       "        vertical-align: middle;\n",
       "    }\n",
       "\n",
       "    .dataframe tbody tr th {\n",
       "        vertical-align: top;\n",
       "    }\n",
       "\n",
       "    .dataframe thead th {\n",
       "        text-align: right;\n",
       "    }\n",
       "</style>\n",
       "<table border=\"1\" class=\"dataframe\">\n",
       "  <thead>\n",
       "    <tr style=\"text-align: right;\">\n",
       "      <th></th>\n",
       "      <th>user_id</th>\n",
       "      <th>ad_system</th>\n",
       "      <th>account_id</th>\n",
       "      <th>date_payed</th>\n",
       "      <th>price</th>\n",
       "      <th>currency</th>\n",
       "      <th>user_date_registration</th>\n",
       "      <th>user_country</th>\n",
       "      <th>utm_medium</th>\n",
       "      <th>utm_source</th>\n",
       "      <th>utm_campaign</th>\n",
       "    </tr>\n",
       "  </thead>\n",
       "  <tbody>\n",
       "    <tr>\n",
       "      <th>0</th>\n",
       "      <td>3848</td>\n",
       "      <td>facebook</td>\n",
       "      <td>161288</td>\n",
       "      <td>2019-05-17</td>\n",
       "      <td>241,012.00</td>\n",
       "      <td>RUB</td>\n",
       "      <td>2018-10-03</td>\n",
       "      <td>RUS</td>\n",
       "      <td>organic</td>\n",
       "      <td>go.mail.ru</td>\n",
       "      <td>(not set)</td>\n",
       "    </tr>\n",
       "    <tr>\n",
       "      <th>1</th>\n",
       "      <td>881</td>\n",
       "      <td>vkontakte</td>\n",
       "      <td>161552</td>\n",
       "      <td>2019-06-03</td>\n",
       "      <td>242,859.00</td>\n",
       "      <td>RUB</td>\n",
       "      <td>2017-02-18</td>\n",
       "      <td>ARM</td>\n",
       "      <td>cpc</td>\n",
       "      <td>mytarget</td>\n",
       "      <td>campaign_101</td>\n",
       "    </tr>\n",
       "    <tr>\n",
       "      <th>2</th>\n",
       "      <td>881</td>\n",
       "      <td>vkontakte</td>\n",
       "      <td>161552</td>\n",
       "      <td>2018-09-10</td>\n",
       "      <td>140,201.00</td>\n",
       "      <td>RUB</td>\n",
       "      <td>2017-02-18</td>\n",
       "      <td>ARM</td>\n",
       "      <td>cpc</td>\n",
       "      <td>mytarget</td>\n",
       "      <td>campaign_101</td>\n",
       "    </tr>\n",
       "    <tr>\n",
       "      <th>3</th>\n",
       "      <td>881</td>\n",
       "      <td>vkontakte</td>\n",
       "      <td>161552</td>\n",
       "      <td>2018-08-08</td>\n",
       "      <td>103,900.53</td>\n",
       "      <td>RUB</td>\n",
       "      <td>2017-02-18</td>\n",
       "      <td>ARM</td>\n",
       "      <td>cpc</td>\n",
       "      <td>mytarget</td>\n",
       "      <td>campaign_101</td>\n",
       "    </tr>\n",
       "    <tr>\n",
       "      <th>4</th>\n",
       "      <td>11353</td>\n",
       "      <td>facebook</td>\n",
       "      <td>161786</td>\n",
       "      <td>2019-05-22</td>\n",
       "      <td>290,783.00</td>\n",
       "      <td>RUB</td>\n",
       "      <td>2018-01-06</td>\n",
       "      <td>ARM</td>\n",
       "      <td>referral</td>\n",
       "      <td>example_site_39</td>\n",
       "      <td>(not set)</td>\n",
       "    </tr>\n",
       "    <tr>\n",
       "      <th>...</th>\n",
       "      <td>...</td>\n",
       "      <td>...</td>\n",
       "      <td>...</td>\n",
       "      <td>...</td>\n",
       "      <td>...</td>\n",
       "      <td>...</td>\n",
       "      <td>...</td>\n",
       "      <td>...</td>\n",
       "      <td>...</td>\n",
       "      <td>...</td>\n",
       "      <td>...</td>\n",
       "    </tr>\n",
       "    <tr>\n",
       "      <th>533516</th>\n",
       "      <td>977</td>\n",
       "      <td>mytarget</td>\n",
       "      <td>183263</td>\n",
       "      <td>2018-08-03</td>\n",
       "      <td>233,700.00</td>\n",
       "      <td>RUB</td>\n",
       "      <td>2017-07-17</td>\n",
       "      <td>KGZ</td>\n",
       "      <td>cpc</td>\n",
       "      <td>telegram</td>\n",
       "      <td>campaign_113</td>\n",
       "    </tr>\n",
       "    <tr>\n",
       "      <th>533517</th>\n",
       "      <td>977</td>\n",
       "      <td>mytarget</td>\n",
       "      <td>183263</td>\n",
       "      <td>2019-07-01</td>\n",
       "      <td>68,356.32</td>\n",
       "      <td>RUB</td>\n",
       "      <td>2017-07-17</td>\n",
       "      <td>KGZ</td>\n",
       "      <td>cpc</td>\n",
       "      <td>telegram</td>\n",
       "      <td>campaign_113</td>\n",
       "    </tr>\n",
       "    <tr>\n",
       "      <th>533518</th>\n",
       "      <td>977</td>\n",
       "      <td>mytarget</td>\n",
       "      <td>183263</td>\n",
       "      <td>2019-01-30</td>\n",
       "      <td>213,481.00</td>\n",
       "      <td>RUB</td>\n",
       "      <td>2017-07-17</td>\n",
       "      <td>KGZ</td>\n",
       "      <td>cpc</td>\n",
       "      <td>telegram</td>\n",
       "      <td>campaign_113</td>\n",
       "    </tr>\n",
       "    <tr>\n",
       "      <th>533519</th>\n",
       "      <td>977</td>\n",
       "      <td>mytarget</td>\n",
       "      <td>183263</td>\n",
       "      <td>2018-09-10</td>\n",
       "      <td>135,096.00</td>\n",
       "      <td>RUB</td>\n",
       "      <td>2017-07-17</td>\n",
       "      <td>KGZ</td>\n",
       "      <td>cpc</td>\n",
       "      <td>telegram</td>\n",
       "      <td>campaign_113</td>\n",
       "    </tr>\n",
       "    <tr>\n",
       "      <th>533520</th>\n",
       "      <td>977</td>\n",
       "      <td>mytarget</td>\n",
       "      <td>183263</td>\n",
       "      <td>2019-04-14</td>\n",
       "      <td>266,095.00</td>\n",
       "      <td>RUB</td>\n",
       "      <td>2017-07-17</td>\n",
       "      <td>KGZ</td>\n",
       "      <td>cpc</td>\n",
       "      <td>telegram</td>\n",
       "      <td>campaign_113</td>\n",
       "    </tr>\n",
       "  </tbody>\n",
       "</table>\n",
       "<p>533521 rows × 11 columns</p>\n",
       "</div>"
      ],
      "text/plain": [
       "        user_id  ad_system  account_id  date_payed      price currency  \\\n",
       "0          3848   facebook      161288  2019-05-17 241,012.00      RUB   \n",
       "1           881  vkontakte      161552  2019-06-03 242,859.00      RUB   \n",
       "2           881  vkontakte      161552  2018-09-10 140,201.00      RUB   \n",
       "3           881  vkontakte      161552  2018-08-08 103,900.53      RUB   \n",
       "4         11353   facebook      161786  2019-05-22 290,783.00      RUB   \n",
       "...         ...        ...         ...         ...        ...      ...   \n",
       "533516      977   mytarget      183263  2018-08-03 233,700.00      RUB   \n",
       "533517      977   mytarget      183263  2019-07-01  68,356.32      RUB   \n",
       "533518      977   mytarget      183263  2019-01-30 213,481.00      RUB   \n",
       "533519      977   mytarget      183263  2018-09-10 135,096.00      RUB   \n",
       "533520      977   mytarget      183263  2019-04-14 266,095.00      RUB   \n",
       "\n",
       "       user_date_registration user_country utm_medium       utm_source  \\\n",
       "0                  2018-10-03          RUS    organic       go.mail.ru   \n",
       "1                  2017-02-18          ARM        cpc         mytarget   \n",
       "2                  2017-02-18          ARM        cpc         mytarget   \n",
       "3                  2017-02-18          ARM        cpc         mytarget   \n",
       "4                  2018-01-06          ARM   referral  example_site_39   \n",
       "...                       ...          ...        ...              ...   \n",
       "533516             2017-07-17          KGZ        cpc         telegram   \n",
       "533517             2017-07-17          KGZ        cpc         telegram   \n",
       "533518             2017-07-17          KGZ        cpc         telegram   \n",
       "533519             2017-07-17          KGZ        cpc         telegram   \n",
       "533520             2017-07-17          KGZ        cpc         telegram   \n",
       "\n",
       "        utm_campaign  \n",
       "0          (not set)  \n",
       "1       campaign_101  \n",
       "2       campaign_101  \n",
       "3       campaign_101  \n",
       "4          (not set)  \n",
       "...              ...  \n",
       "533516  campaign_113  \n",
       "533517  campaign_113  \n",
       "533518  campaign_113  \n",
       "533519  campaign_113  \n",
       "533520  campaign_113  \n",
       "\n",
       "[533521 rows x 11 columns]"
      ]
     },
     "execution_count": 11,
     "metadata": {},
     "output_type": "execute_result"
    }
   ],
   "source": [
    "K_Reg_User = transfers_to_ad_systems.merge(users_registrations, on = 'user_id', how='left')\n",
    "#Дату из timestamp в date\n",
    "K_Reg_User['date_payed'] = pd.to_datetime(K_Reg_User['date_payed']).dt.date\n",
    "#Дату из timestamp в date\n",
    "K_Reg_User['user_date_registration'] = pd.to_datetime(K_Reg_User['user_date_registration']).dt.date\n",
    "K_Reg_User"
   ]
  },
  {
   "cell_type": "code",
   "execution_count": null,
   "id": "f6c74b4b",
   "metadata": {},
   "outputs": [],
   "source": []
  },
  {
   "cell_type": "code",
   "execution_count": 12,
   "id": "17475814",
   "metadata": {},
   "outputs": [
    {
     "data": {
      "text/html": [
       "<div>\n",
       "<style scoped>\n",
       "    .dataframe tbody tr th:only-of-type {\n",
       "        vertical-align: middle;\n",
       "    }\n",
       "\n",
       "    .dataframe tbody tr th {\n",
       "        vertical-align: top;\n",
       "    }\n",
       "\n",
       "    .dataframe thead th {\n",
       "        text-align: right;\n",
       "    }\n",
       "</style>\n",
       "<table border=\"1\" class=\"dataframe\">\n",
       "  <thead>\n",
       "    <tr style=\"text-align: right;\">\n",
       "      <th></th>\n",
       "      <th>price</th>\n",
       "    </tr>\n",
       "    <tr>\n",
       "      <th>user_date_registration</th>\n",
       "      <th></th>\n",
       "    </tr>\n",
       "  </thead>\n",
       "  <tbody>\n",
       "    <tr>\n",
       "      <th>2017-01-01</th>\n",
       "      <td>48,476,581.18</td>\n",
       "    </tr>\n",
       "    <tr>\n",
       "      <th>2017-01-02</th>\n",
       "      <td>50,399,735.29</td>\n",
       "    </tr>\n",
       "    <tr>\n",
       "      <th>2017-01-03</th>\n",
       "      <td>87,838,756.26</td>\n",
       "    </tr>\n",
       "    <tr>\n",
       "      <th>2017-01-04</th>\n",
       "      <td>53,144,148.05</td>\n",
       "    </tr>\n",
       "    <tr>\n",
       "      <th>2017-01-05</th>\n",
       "      <td>91,943,068.58</td>\n",
       "    </tr>\n",
       "    <tr>\n",
       "      <th>...</th>\n",
       "      <td>...</td>\n",
       "    </tr>\n",
       "    <tr>\n",
       "      <th>2019-06-11</th>\n",
       "      <td>38,128,754.97</td>\n",
       "    </tr>\n",
       "    <tr>\n",
       "      <th>2019-06-12</th>\n",
       "      <td>136,603,296.86</td>\n",
       "    </tr>\n",
       "    <tr>\n",
       "      <th>2019-06-13</th>\n",
       "      <td>88,960,295.03</td>\n",
       "    </tr>\n",
       "    <tr>\n",
       "      <th>2019-06-14</th>\n",
       "      <td>24,893,295.64</td>\n",
       "    </tr>\n",
       "    <tr>\n",
       "      <th>2019-06-15</th>\n",
       "      <td>117,500,786.49</td>\n",
       "    </tr>\n",
       "  </tbody>\n",
       "</table>\n",
       "<p>846 rows × 1 columns</p>\n",
       "</div>"
      ],
      "text/plain": [
       "                                price\n",
       "user_date_registration               \n",
       "2017-01-01              48,476,581.18\n",
       "2017-01-02              50,399,735.29\n",
       "2017-01-03              87,838,756.26\n",
       "2017-01-04              53,144,148.05\n",
       "2017-01-05              91,943,068.58\n",
       "...                               ...\n",
       "2019-06-11              38,128,754.97\n",
       "2019-06-12             136,603,296.86\n",
       "2019-06-13              88,960,295.03\n",
       "2019-06-14              24,893,295.64\n",
       "2019-06-15             117,500,786.49\n",
       "\n",
       "[846 rows x 1 columns]"
      ]
     },
     "execution_count": 12,
     "metadata": {},
     "output_type": "execute_result"
    }
   ],
   "source": [
    "K_Reg_User.groupby('user_date_registration').agg({'price': 'sum'})"
   ]
  },
  {
   "cell_type": "code",
   "execution_count": 13,
   "id": "4e929588",
   "metadata": {},
   "outputs": [
    {
     "data": {
      "text/plain": [
       "<Axes: xlabel='user_date_registration', ylabel='price'>"
      ]
     },
     "execution_count": 13,
     "metadata": {},
     "output_type": "execute_result"
    },
    {
     "data": {
      "image/png": "[encoded data removed]",
      "text/plain": [
       "<Figure size 640x480 with 1 Axes>"
      ]
     },
     "metadata": {},
     "output_type": "display_data"
    }
   ],
   "source": [
    "K_Reg_User.plot.scatter(x='user_date_registration',y='price')"
   ]
  },
  {
   "cell_type": "code",
   "execution_count": null,
   "id": "cc40ed93",
   "metadata": {},
   "outputs": [],
   "source": [
    "K_Reg_User.plot(kind=\"bar\")"
   ]
  },
  {
   "cell_type": "code",
   "execution_count": null,
   "id": "887019dc",
   "metadata": {},
   "outputs": [],
   "source": [
    "K_Reg_User.plot()"
   ]
  },
  {
   "cell_type": "code",
   "execution_count": null,
   "id": "d5ec1c76",
   "metadata": {},
   "outputs": [],
   "source": [
    "sns.heatmap(K_Reg_User.drop('user_date_registration', axis=1).corr(), annot=True, cmap= 'coolwarm')"
   ]
  },
  {
   "cell_type": "markdown",
   "id": "8638ca08",
   "metadata": {},
   "source": [
    "Не хватает мощности пк обработать эти данные :)\n",
    "\n",
    "Запустив 3 кода выше, будут различные графики по таблице K_Reg_User."
   ]
  },
  {
   "cell_type": "markdown",
   "id": "a7c90577",
   "metadata": {},
   "source": [
    "### 6) Когорта по дате регистрации юзера по кол-ву пользователей"
   ]
  },
  {
   "cell_type": "code",
   "execution_count": 14,
   "id": "23f46228",
   "metadata": {},
   "outputs": [
    {
     "data": {
      "text/html": [
       "<div>\n",
       "<style scoped>\n",
       "    .dataframe tbody tr th:only-of-type {\n",
       "        vertical-align: middle;\n",
       "    }\n",
       "\n",
       "    .dataframe tbody tr th {\n",
       "        vertical-align: top;\n",
       "    }\n",
       "\n",
       "    .dataframe thead th {\n",
       "        text-align: right;\n",
       "    }\n",
       "</style>\n",
       "<table border=\"1\" class=\"dataframe\">\n",
       "  <thead>\n",
       "    <tr style=\"text-align: right;\">\n",
       "      <th></th>\n",
       "      <th>user_id</th>\n",
       "    </tr>\n",
       "    <tr>\n",
       "      <th>user_date_registration</th>\n",
       "      <th></th>\n",
       "    </tr>\n",
       "  </thead>\n",
       "  <tbody>\n",
       "    <tr>\n",
       "      <th>2017-01-01</th>\n",
       "      <td>323</td>\n",
       "    </tr>\n",
       "    <tr>\n",
       "      <th>2017-01-02</th>\n",
       "      <td>318</td>\n",
       "    </tr>\n",
       "    <tr>\n",
       "      <th>2017-01-03</th>\n",
       "      <td>599</td>\n",
       "    </tr>\n",
       "    <tr>\n",
       "      <th>2017-01-04</th>\n",
       "      <td>356</td>\n",
       "    </tr>\n",
       "    <tr>\n",
       "      <th>2017-01-05</th>\n",
       "      <td>602</td>\n",
       "    </tr>\n",
       "    <tr>\n",
       "      <th>...</th>\n",
       "      <td>...</td>\n",
       "    </tr>\n",
       "    <tr>\n",
       "      <th>2019-06-11</th>\n",
       "      <td>251</td>\n",
       "    </tr>\n",
       "    <tr>\n",
       "      <th>2019-06-12</th>\n",
       "      <td>879</td>\n",
       "    </tr>\n",
       "    <tr>\n",
       "      <th>2019-06-13</th>\n",
       "      <td>595</td>\n",
       "    </tr>\n",
       "    <tr>\n",
       "      <th>2019-06-14</th>\n",
       "      <td>167</td>\n",
       "    </tr>\n",
       "    <tr>\n",
       "      <th>2019-06-15</th>\n",
       "      <td>785</td>\n",
       "    </tr>\n",
       "  </tbody>\n",
       "</table>\n",
       "<p>846 rows × 1 columns</p>\n",
       "</div>"
      ],
      "text/plain": [
       "                        user_id\n",
       "user_date_registration         \n",
       "2017-01-01                  323\n",
       "2017-01-02                  318\n",
       "2017-01-03                  599\n",
       "2017-01-04                  356\n",
       "2017-01-05                  602\n",
       "...                         ...\n",
       "2019-06-11                  251\n",
       "2019-06-12                  879\n",
       "2019-06-13                  595\n",
       "2019-06-14                  167\n",
       "2019-06-15                  785\n",
       "\n",
       "[846 rows x 1 columns]"
      ]
     },
     "execution_count": 14,
     "metadata": {},
     "output_type": "execute_result"
    }
   ],
   "source": [
    "K_Reg_User.groupby('user_date_registration').agg({'user_id': 'count'})"
   ]
  },
  {
   "cell_type": "code",
   "execution_count": 16,
   "id": "36f3deab",
   "metadata": {},
   "outputs": [],
   "source": [
    "# K_Reg_User.plot(kind=\"bar\")\n",
    "# K_Reg_User.plot()\n",
    "# sns.heatmap(K_Reg_User.drop('user_date_registration', axis=1).corr(), annot=True, cmap= 'coolwarm')\n",
    "\n",
    " # Все тоже самое что выше, не хватает мощности пк нарисовать эти графики :D\n",
    " # т.к. я их не запускал, могут быть с ошибкой."
   ]
  },
  {
   "cell_type": "markdown",
   "id": "4b45d519",
   "metadata": {
    "scrolled": true
   },
   "source": [
    "### sql"
   ]
  },
  {
   "cell_type": "code",
   "execution_count": 17,
   "id": "7d335c32",
   "metadata": {},
   "outputs": [],
   "source": [
    "# -- Ну и я для примера покажу что умею в sql. Но покажу это псевдокодом тут, пусть будет код к 6 задаче. Та что выше.\n",
    "#\n",
    "# select extract(date from u.user_date_registration), count(t.user_id) count_user\n",
    "#   from transfers_to_ad_systems t\n",
    "#   left join users_registrations u using(user_id) /* или u.user_id = t.user_id */\n",
    "#  group by u.user_date_registration\n",
    " \n"
   ]
  },
  {
   "cell_type": "code",
   "execution_count": null,
   "id": "514b2d26",
   "metadata": {},
   "outputs": [],
   "source": []
  }
 ],
 "metadata": {
  "kernelspec": {
   "display_name": "Python 3 (ipykernel)",
   "language": "python",
   "name": "python3"
  },
  "language_info": {
   "codemirror_mode": {
    "name": "ipython",
    "version": 3
   },
   "file_extension": ".py",
   "mimetype": "text/x-python",
   "name": "python",
   "nbconvert_exporter": "python",
   "pygments_lexer": "ipython3",
   "version": "3.10.0"
  }
 },
 "nbformat": 4,
 "nbformat_minor": 5
}
